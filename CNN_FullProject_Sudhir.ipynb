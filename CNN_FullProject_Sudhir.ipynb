{
 "cells": [
  {
   "cell_type": "code",
   "execution_count": 1,
   "metadata": {},
   "outputs": [],
   "source": [
    "import tensorflow as tf\n",
    "import numpy as np\n",
    "import pandas as pd\n",
    "import matplotlib.pyplot as plt\n",
    "import matplotlib as mpl\n",
    "%matplotlib inline\n",
    "from tensorflow.keras.preprocessing.image import ImageDataGenerator"
   ]
  },
  {
   "cell_type": "code",
   "execution_count": 2,
   "metadata": {},
   "outputs": [],
   "source": [
    "train_dir = r'C:\\Users\\Sudir\\Desktop\\SDLLearn\\4.CNN for Computer Vision with Keras and TF in Python\\Others\\CNN Python Code\\train'\n",
    "validation_dir = r'C:\\Users\\Sudir\\Desktop\\SDLLearn\\4.CNN for Computer Vision with Keras and TF in Python\\Others\\CNN Python Code\\validation'\n",
    "test_dir = r'C:\\Users\\Sudir\\Desktop\\SDLLearn\\4.CNN for Computer Vision with Keras and TF in Python\\Others\\CNN Python Code\\test'"
   ]
  },
  {
   "cell_type": "code",
   "execution_count": 3,
   "metadata": {},
   "outputs": [
    {
     "name": "stdout",
     "output_type": "stream",
     "text": [
      "Found 2000 images belonging to 2 classes.\n",
      "Found 1000 images belonging to 2 classes.\n"
     ]
    }
   ],
   "source": [
    "#DATA PREPROCESSING\n",
    "train_datagen = ImageDataGenerator(\n",
    "        rescale=1./255,\n",
    "        rotation_range=40,\n",
    "        width_shift_range=0.2,\n",
    "        height_shift_range=0.2,\n",
    "        shear_range=0.2,\n",
    "        zoom_range=0.2,\n",
    "        horizontal_flip=True)\n",
    "\n",
    "\n",
    "train_generator = train_datagen.flow_from_directory(\n",
    "        train_dir,\n",
    "        target_size=(150, 150),\n",
    "        batch_size=32,\n",
    "        class_mode='binary')\n",
    "\n",
    "test_datagen = ImageDataGenerator(rescale=1./255)\n",
    "\n",
    "validation_generator = test_datagen.flow_from_directory(\n",
    "        validation_dir,\n",
    "        target_size=(150, 150),\n",
    "        batch_size=32,\n",
    "        class_mode='binary')"
   ]
  },
  {
   "cell_type": "code",
   "execution_count": 4,
   "metadata": {},
   "outputs": [],
   "source": [
    "from tensorflow.keras import layers\n",
    "from tensorflow.keras import models"
   ]
  },
  {
   "cell_type": "code",
   "execution_count": 5,
   "metadata": {},
   "outputs": [],
   "source": [
    "model = models.Sequential()\n",
    "\n",
    "model.add(tf.keras.layers.Conv2D (32, (3,3), activation = 'relu', \n",
    "                                 input_shape=(150,150, 3)))\n",
    "model.add(tf.keras.layers.MaxPooling2D((2,2)))\n",
    "\n",
    "model.add(tf.keras.layers.Conv2D (64, (3,3), activation = 'relu'))\n",
    "model.add(tf.keras.layers.MaxPooling2D((2,2)))\n",
    "\n",
    "model.add(tf.keras.layers.Conv2D (128, (3,3), activation = 'relu'))\n",
    "model.add(tf.keras.layers.MaxPooling2D((2,2)))\n",
    "\n",
    "model.add(tf.keras.layers.Conv2D (128, (3,3), activation = 'relu'))\n",
    "model.add(tf.keras.layers.MaxPooling2D((2,2)))\n",
    "\n",
    "model.add(tf.keras.layers.Flatten())\n",
    "model.add(tf.keras.layers.Dropout(0.5))\n",
    "model.add(layers.Dense(512, activation='relu'))\n",
    "\n",
    "model.add(layers.Dense(1, activation='sigmoid'))"
   ]
  },
  {
   "cell_type": "code",
   "execution_count": 6,
   "metadata": {},
   "outputs": [
    {
     "name": "stdout",
     "output_type": "stream",
     "text": [
      "Model: \"sequential\"\n",
      "_________________________________________________________________\n",
      "Layer (type)                 Output Shape              Param #   \n",
      "=================================================================\n",
      "conv2d (Conv2D)              (None, 148, 148, 32)      896       \n",
      "_________________________________________________________________\n",
      "max_pooling2d (MaxPooling2D) (None, 74, 74, 32)        0         \n",
      "_________________________________________________________________\n",
      "conv2d_1 (Conv2D)            (None, 72, 72, 64)        18496     \n",
      "_________________________________________________________________\n",
      "max_pooling2d_1 (MaxPooling2 (None, 36, 36, 64)        0         \n",
      "_________________________________________________________________\n",
      "conv2d_2 (Conv2D)            (None, 34, 34, 128)       73856     \n",
      "_________________________________________________________________\n",
      "max_pooling2d_2 (MaxPooling2 (None, 17, 17, 128)       0         \n",
      "_________________________________________________________________\n",
      "conv2d_3 (Conv2D)            (None, 15, 15, 128)       147584    \n",
      "_________________________________________________________________\n",
      "max_pooling2d_3 (MaxPooling2 (None, 7, 7, 128)         0         \n",
      "_________________________________________________________________\n",
      "flatten (Flatten)            (None, 6272)              0         \n",
      "_________________________________________________________________\n",
      "dropout (Dropout)            (None, 6272)              0         \n",
      "_________________________________________________________________\n",
      "dense (Dense)                (None, 512)               3211776   \n",
      "_________________________________________________________________\n",
      "dense_1 (Dense)              (None, 1)                 513       \n",
      "=================================================================\n",
      "Total params: 3,453,121\n",
      "Trainable params: 3,453,121\n",
      "Non-trainable params: 0\n",
      "_________________________________________________________________\n"
     ]
    }
   ],
   "source": [
    "model.summary()"
   ]
  },
  {
   "cell_type": "code",
   "execution_count": 7,
   "metadata": {},
   "outputs": [],
   "source": [
    "from tensorflow.keras import optimizers\n",
    "\n",
    "model.compile( optimizer= optimizers.RMSprop(lr=1e-4), \n",
    "              loss = 'binary_crossentropy', \n",
    "              metrics=['accuracy'])\n"
   ]
  },
  {
   "cell_type": "code",
   "execution_count": 8,
   "metadata": {},
   "outputs": [
    {
     "name": "stdout",
     "output_type": "stream",
     "text": [
      "Epoch 1/40\n",
      "50/50 [==============================] - 48s 970ms/step - loss: 0.6964 - accuracy: 0.4981 - val_loss: 0.6868 - val_accuracy: 0.5203\n",
      "Epoch 2/40\n",
      "50/50 [==============================] - 46s 924ms/step - loss: 0.6912 - accuracy: 0.5294 - val_loss: 0.6851 - val_accuracy: 0.5375\n",
      "Epoch 3/40\n",
      "50/50 [==============================] - 50s 1s/step - loss: 0.6824 - accuracy: 0.5600 - val_loss: 0.6671 - val_accuracy: 0.5766\n",
      "Epoch 4/40\n",
      "50/50 [==============================] - 116s 2s/step - loss: 0.6658 - accuracy: 0.5950 - val_loss: 0.6574 - val_accuracy: 0.5984\n",
      "Epoch 5/40\n",
      "50/50 [==============================] - 115s 2s/step - loss: 0.6615 - accuracy: 0.6023 - val_loss: 0.6878 - val_accuracy: 0.5391\n",
      "Epoch 6/40\n",
      "50/50 [==============================] - 54s 1s/step - loss: 0.6567 - accuracy: 0.6137 - val_loss: 0.6259 - val_accuracy: 0.6344\n",
      "Epoch 7/40\n",
      "50/50 [==============================] - 53s 1s/step - loss: 0.6426 - accuracy: 0.6225 - val_loss: 0.6752 - val_accuracy: 0.5641\n",
      "Epoch 8/40\n",
      "50/50 [==============================] - 50s 999ms/step - loss: 0.6288 - accuracy: 0.6363 - val_loss: 0.6065 - val_accuracy: 0.6422\n",
      "Epoch 9/40\n",
      "50/50 [==============================] - 47s 932ms/step - loss: 0.6232 - accuracy: 0.6400 - val_loss: 0.6312 - val_accuracy: 0.6203\n",
      "Epoch 10/40\n",
      "50/50 [==============================] - 53s 1s/step - loss: 0.6223 - accuracy: 0.6606 - val_loss: 0.5846 - val_accuracy: 0.6641\n",
      "Epoch 11/40\n",
      "50/50 [==============================] - 67s 1s/step - loss: 0.6247 - accuracy: 0.6525 - val_loss: 0.6002 - val_accuracy: 0.6500\n",
      "Epoch 12/40\n",
      "50/50 [==============================] - 97s 2s/step - loss: 0.6000 - accuracy: 0.6679 - val_loss: 0.6066 - val_accuracy: 0.6531\n",
      "Epoch 13/40\n",
      "50/50 [==============================] - 57s 1s/step - loss: 0.6022 - accuracy: 0.6667 - val_loss: 0.5703 - val_accuracy: 0.6875\n",
      "Epoch 14/40\n",
      "50/50 [==============================] - 55s 1s/step - loss: 0.5942 - accuracy: 0.6755 - val_loss: 0.5915 - val_accuracy: 0.6766\n",
      "Epoch 15/40\n",
      "50/50 [==============================] - 53s 1s/step - loss: 0.5945 - accuracy: 0.6730 - val_loss: 0.5406 - val_accuracy: 0.7297\n",
      "Epoch 16/40\n",
      "50/50 [==============================] - 52s 1s/step - loss: 0.5903 - accuracy: 0.6755 - val_loss: 0.6208 - val_accuracy: 0.6406\n",
      "Epoch 17/40\n",
      "50/50 [==============================] - 79s 2s/step - loss: 0.5680 - accuracy: 0.7109 - val_loss: 0.5813 - val_accuracy: 0.6828\n",
      "Epoch 18/40\n",
      "50/50 [==============================] - 58s 1s/step - loss: 0.5702 - accuracy: 0.7014 - val_loss: 0.5445 - val_accuracy: 0.7141\n",
      "Epoch 19/40\n",
      "50/50 [==============================] - 57s 1s/step - loss: 0.5746 - accuracy: 0.6963 - val_loss: 0.5323 - val_accuracy: 0.7172\n",
      "Epoch 20/40\n",
      "50/50 [==============================] - 56s 1s/step - loss: 0.5707 - accuracy: 0.6938 - val_loss: 0.5374 - val_accuracy: 0.7063\n",
      "Epoch 21/40\n",
      "50/50 [==============================] - 52s 1s/step - loss: 0.5695 - accuracy: 0.7058 - val_loss: 0.5681 - val_accuracy: 0.6938\n",
      "Epoch 22/40\n",
      "50/50 [==============================] - 52s 1s/step - loss: 0.5645 - accuracy: 0.7090 - val_loss: 0.5310 - val_accuracy: 0.7188\n",
      "Epoch 23/40\n",
      "50/50 [==============================] - 53s 1s/step - loss: 0.5636 - accuracy: 0.7014 - val_loss: 0.5218 - val_accuracy: 0.7328\n",
      "Epoch 24/40\n",
      "50/50 [==============================] - 51s 1s/step - loss: 0.5666 - accuracy: 0.7025 - val_loss: 0.5373 - val_accuracy: 0.7156\n",
      "Epoch 25/40\n",
      "50/50 [==============================] - 51s 1s/step - loss: 0.5580 - accuracy: 0.7153 - val_loss: 0.5532 - val_accuracy: 0.7203\n",
      "Epoch 26/40\n",
      "50/50 [==============================] - 52s 1s/step - loss: 0.5575 - accuracy: 0.7191 - val_loss: 0.5434 - val_accuracy: 0.7125\n",
      "Epoch 27/40\n",
      "50/50 [==============================] - 51s 1s/step - loss: 0.5599 - accuracy: 0.6976 - val_loss: 0.5493 - val_accuracy: 0.7000\n",
      "Epoch 28/40\n",
      "50/50 [==============================] - 51s 1s/step - loss: 0.5519 - accuracy: 0.7203 - val_loss: 0.5229 - val_accuracy: 0.7297\n",
      "Epoch 29/40\n",
      "50/50 [==============================] - 51s 1s/step - loss: 0.5272 - accuracy: 0.7355 - val_loss: 0.5481 - val_accuracy: 0.7203\n",
      "Epoch 30/40\n",
      "50/50 [==============================] - 52s 1s/step - loss: 0.5285 - accuracy: 0.7304 - val_loss: 0.5453 - val_accuracy: 0.7172\n",
      "Epoch 31/40\n",
      "50/50 [==============================] - 54s 1s/step - loss: 0.5290 - accuracy: 0.7344 - val_loss: 0.5403 - val_accuracy: 0.7328\n",
      "Epoch 32/40\n",
      "50/50 [==============================] - 109s 2s/step - loss: 0.5139 - accuracy: 0.7544 - val_loss: 0.5161 - val_accuracy: 0.7500\n",
      "Epoch 33/40\n",
      "50/50 [==============================] - 72s 1s/step - loss: 0.5309 - accuracy: 0.7292 - val_loss: 0.5312 - val_accuracy: 0.7297\n",
      "Epoch 34/40\n",
      "50/50 [==============================] - 57s 1s/step - loss: 0.5322 - accuracy: 0.7266 - val_loss: 0.5037 - val_accuracy: 0.7312\n",
      "Epoch 35/40\n",
      "50/50 [==============================] - 55s 1s/step - loss: 0.5279 - accuracy: 0.7235 - val_loss: 0.6441 - val_accuracy: 0.6687\n",
      "Epoch 36/40\n",
      "50/50 [==============================] - 54s 1s/step - loss: 0.5304 - accuracy: 0.7216 - val_loss: 0.5033 - val_accuracy: 0.7453\n",
      "Epoch 37/40\n",
      "50/50 [==============================] - 55s 1s/step - loss: 0.5230 - accuracy: 0.7304 - val_loss: 0.5168 - val_accuracy: 0.7437\n",
      "Epoch 38/40\n",
      "50/50 [==============================] - 55s 1s/step - loss: 0.5118 - accuracy: 0.7325 - val_loss: 0.4903 - val_accuracy: 0.7625\n",
      "Epoch 39/40\n",
      "50/50 [==============================] - 56s 1s/step - loss: 0.5251 - accuracy: 0.7241 - val_loss: 0.5709 - val_accuracy: 0.6969\n",
      "Epoch 40/40\n",
      "50/50 [==============================] - 57s 1s/step - loss: 0.5246 - accuracy: 0.7380 - val_loss: 0.4921 - val_accuracy: 0.7375\n"
     ]
    }
   ],
   "source": [
    "history = model.fit(\n",
    "    train_generator, \n",
    "    steps_per_epoch = 50, \n",
    "    epochs=40,\n",
    "    validation_data = validation_generator, \n",
    "    validation_steps= 20)"
   ]
  },
  {
   "cell_type": "code",
   "execution_count": 9,
   "metadata": {},
   "outputs": [
    {
     "data": {
      "image/png": "[encoded data removed]",
      "text/plain": [
       "<Figure size 576x360 with 1 Axes>"
      ]
     },
     "metadata": {
      "needs_background": "light"
     },
     "output_type": "display_data"
    }
   ],
   "source": [
    "pd.DataFrame(history.history).plot(figsize=(8,5))\n",
    "plt.grid(True)\n",
    "plt.gca().set_ylim(0,1)\n",
    "plt.show()"
   ]
  },
  {
   "cell_type": "code",
   "execution_count": null,
   "metadata": {},
   "outputs": [],
   "source": [
    "model.save('model.h5')"
   ]
  },
  {
   "cell_type": "code",
   "execution_count": null,
   "metadata": {},
   "outputs": [],
   "source": [
    "from tensorflow.keras import backend as K"
   ]
  },
  {
   "cell_type": "code",
   "execution_count": null,
   "metadata": {},
   "outputs": [],
   "source": [
    "K.clear_session()\n",
    "del model"
   ]
  },
  {
   "cell_type": "code",
   "execution_count": null,
   "metadata": {},
   "outputs": [],
   "source": []
  }
 ],
 "metadata": {
  "kernelspec": {
   "display_name": "Python 3",
   "language": "python",
   "name": "python3"
  },
  "language_info": {
   "codemirror_mode": {
    "name": "ipython",
    "version": 3
   },
   "file_extension": ".py",
   "mimetype": "text/x-python",
   "name": "python",
   "nbconvert_exporter": "python",
   "pygments_lexer": "ipython3",
   "version": "3.8.3"
  }
 },
 "nbformat": 4,
 "nbformat_minor": 4
}
